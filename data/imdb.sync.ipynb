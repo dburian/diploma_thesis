{
 "cells": [
  {
   "cell_type": "markdown",
   "id": "373c8c4c",
   "metadata": {
    "lines_to_next_cell": 0
   },
   "source": [
    "# IMDB dataset\n"
   ]
  },
  {
   "cell_type": "code",
   "execution_count": 35,
   "id": "6a754ebe",
   "metadata": {},
   "outputs": [],
   "source": [
    "import random as rand\n",
    "\n",
    "import datasets as ds\n",
    "import matplotlib.pyplot as plt\n",
    "import numpy as np\n",
    "import pandas as pd\n",
    "import seaborn as sns\n",
    "import transformers\n",
    "\n",
    "rand.seed(42)"
   ]
  },
  {
   "cell_type": "code",
   "execution_count": 8,
   "id": "eab7623a",
   "metadata": {},
   "outputs": [
    {
     "name": "stderr",
     "output_type": "stream",
     "text": [
      "Found cached dataset imdb (/home/dburian/.cache/huggingface/datasets/imdb/plain_text/1.0.0/2fdd8b9bcadd6e7055e742a706876ba43f19faee861df134affd7a3f60fc38a1)\n"
     ]
    },
    {
     "data": {
      "application/vnd.jupyter.widget-view+json": {
       "model_id": "9bdc723cabe1479abfb005f7f3613e47",
       "version_major": 2,
       "version_minor": 0
      },
      "text/plain": [
       "  0%|          | 0/3 [00:00<?, ?it/s]"
      ]
     },
     "metadata": {},
     "output_type": "display_data"
    },
    {
     "name": "stdout",
     "output_type": "stream",
     "text": [
      "DatasetDict({\n",
      "    train: Dataset({\n",
      "        features: ['text', 'label'],\n",
      "        num_rows: 25000\n",
      "    })\n",
      "    test: Dataset({\n",
      "        features: ['text', 'label'],\n",
      "        num_rows: 25000\n",
      "    })\n",
      "    unsupervised: Dataset({\n",
      "        features: ['text', 'label'],\n",
      "        num_rows: 50000\n",
      "    })\n",
      "})\n"
     ]
    }
   ],
   "source": [
    "imdb = ds.load_dataset(\"imdb\")\n",
    "\n",
    "print(imdb)"
   ]
  },
  {
   "cell_type": "code",
   "execution_count": 31,
   "id": "66d794e8",
   "metadata": {},
   "outputs": [
    {
     "data": {
      "application/vnd.jupyter.widget-view+json": {
       "model_id": "bc97005bd58b461e971450bb23d74aef",
       "version_major": 2,
       "version_minor": 0
      },
      "text/plain": [
       "Downloading:   0%|          | 0.00/481 [00:00<?, ?B/s]"
      ]
     },
     "metadata": {},
     "output_type": "display_data"
    },
    {
     "data": {
      "application/vnd.jupyter.widget-view+json": {
       "model_id": "3eadae2d91fb45c0bf2006eb7264bab3",
       "version_major": 2,
       "version_minor": 0
      },
      "text/plain": [
       "Downloading:   0%|          | 0.00/899k [00:00<?, ?B/s]"
      ]
     },
     "metadata": {},
     "output_type": "display_data"
    },
    {
     "data": {
      "application/vnd.jupyter.widget-view+json": {
       "model_id": "03e3a87c88b54771b58bc7ab2f580c3d",
       "version_major": 2,
       "version_minor": 0
      },
      "text/plain": [
       "Downloading:   0%|          | 0.00/456k [00:00<?, ?B/s]"
      ]
     },
     "metadata": {},
     "output_type": "display_data"
    },
    {
     "data": {
      "application/vnd.jupyter.widget-view+json": {
       "model_id": "564281d9197e472ca30cb23f3d6cd657",
       "version_major": 2,
       "version_minor": 0
      },
      "text/plain": [
       "Downloading:   0%|          | 0.00/1.36M [00:00<?, ?B/s]"
      ]
     },
     "metadata": {},
     "output_type": "display_data"
    },
    {
     "name": "stderr",
     "output_type": "stream",
     "text": [
      "Token indices sequence length is longer than the specified maximum sequence length for this model (678 > 512). Running this sequence through the model will result in indexing errors\n"
     ]
    },
    {
     "data": {
      "text/html": [
       "<div>\n",
       "<style scoped>\n",
       "    .dataframe tbody tr th:only-of-type {\n",
       "        vertical-align: middle;\n",
       "    }\n",
       "\n",
       "    .dataframe tbody tr th {\n",
       "        vertical-align: top;\n",
       "    }\n",
       "\n",
       "    .dataframe thead th {\n",
       "        text-align: right;\n",
       "    }\n",
       "</style>\n",
       "<table border=\"1\" class=\"dataframe\">\n",
       "  <thead>\n",
       "    <tr style=\"text-align: right;\">\n",
       "      <th></th>\n",
       "      <th>label</th>\n",
       "      <th>text_wc</th>\n",
       "      <th>text_tc</th>\n",
       "    </tr>\n",
       "  </thead>\n",
       "  <tbody>\n",
       "    <tr>\n",
       "      <th>count</th>\n",
       "      <td>25000.00000</td>\n",
       "      <td>25000.000000</td>\n",
       "      <td>25000.000000</td>\n",
       "    </tr>\n",
       "    <tr>\n",
       "      <th>mean</th>\n",
       "      <td>0.50000</td>\n",
       "      <td>233.776720</td>\n",
       "      <td>299.675560</td>\n",
       "    </tr>\n",
       "    <tr>\n",
       "      <th>std</th>\n",
       "      <td>0.50001</td>\n",
       "      <td>173.715418</td>\n",
       "      <td>225.155963</td>\n",
       "    </tr>\n",
       "    <tr>\n",
       "      <th>min</th>\n",
       "      <td>0.00000</td>\n",
       "      <td>10.000000</td>\n",
       "      <td>11.000000</td>\n",
       "    </tr>\n",
       "    <tr>\n",
       "      <th>25%</th>\n",
       "      <td>0.00000</td>\n",
       "      <td>127.000000</td>\n",
       "      <td>159.750000</td>\n",
       "    </tr>\n",
       "    <tr>\n",
       "      <th>50%</th>\n",
       "      <td>0.50000</td>\n",
       "      <td>174.000000</td>\n",
       "      <td>222.000000</td>\n",
       "    </tr>\n",
       "    <tr>\n",
       "      <th>75%</th>\n",
       "      <td>1.00000</td>\n",
       "      <td>284.000000</td>\n",
       "      <td>366.000000</td>\n",
       "    </tr>\n",
       "    <tr>\n",
       "      <th>max</th>\n",
       "      <td>1.00000</td>\n",
       "      <td>2470.000000</td>\n",
       "      <td>3097.000000</td>\n",
       "    </tr>\n",
       "  </tbody>\n",
       "</table>\n",
       "</div>"
      ],
      "text/plain": [
       "             label       text_wc       text_tc\n",
       "count  25000.00000  25000.000000  25000.000000\n",
       "mean       0.50000    233.776720    299.675560\n",
       "std        0.50001    173.715418    225.155963\n",
       "min        0.00000     10.000000     11.000000\n",
       "25%        0.00000    127.000000    159.750000\n",
       "50%        0.50000    174.000000    222.000000\n",
       "75%        1.00000    284.000000    366.000000\n",
       "max        1.00000   2470.000000   3097.000000"
      ]
     },
     "execution_count": 31,
     "metadata": {},
     "output_type": "execute_result"
    }
   ],
   "source": [
    "train = imdb[\"train\"]\n",
    "\n",
    "train_df = pd.DataFrame(train)\n",
    "train_df[\"text_wc\"] = train_df[\"text\"].apply(lambda text: len(text.split(\" \")))\n",
    "\n",
    "tokenizer = transformers.AutoTokenizer.from_pretrained(\"roberta-base\")\n",
    "train_df[\"text_tc\"] = train_df[\"text\"].apply(lambda text: len(tokenizer.tokenize(text)))\n",
    "\n",
    "\n",
    "train_df.describe()"
   ]
  },
  {
   "cell_type": "code",
   "execution_count": 10,
   "id": "0fe082be",
   "metadata": {},
   "outputs": [
    {
     "data": {
      "text/html": [
       "<div>\n",
       "<style scoped>\n",
       "    .dataframe tbody tr th:only-of-type {\n",
       "        vertical-align: middle;\n",
       "    }\n",
       "\n",
       "    .dataframe tbody tr th {\n",
       "        vertical-align: top;\n",
       "    }\n",
       "\n",
       "    .dataframe thead th {\n",
       "        text-align: right;\n",
       "    }\n",
       "</style>\n",
       "<table border=\"1\" class=\"dataframe\">\n",
       "  <thead>\n",
       "    <tr style=\"text-align: right;\">\n",
       "      <th></th>\n",
       "      <th>label</th>\n",
       "      <th>text_wc</th>\n",
       "    </tr>\n",
       "  </thead>\n",
       "  <tbody>\n",
       "    <tr>\n",
       "      <th>count</th>\n",
       "      <td>25000.00000</td>\n",
       "      <td>25000.000000</td>\n",
       "    </tr>\n",
       "    <tr>\n",
       "      <th>mean</th>\n",
       "      <td>0.50000</td>\n",
       "      <td>233.776720</td>\n",
       "    </tr>\n",
       "    <tr>\n",
       "      <th>std</th>\n",
       "      <td>0.50001</td>\n",
       "      <td>173.715418</td>\n",
       "    </tr>\n",
       "    <tr>\n",
       "      <th>min</th>\n",
       "      <td>0.00000</td>\n",
       "      <td>10.000000</td>\n",
       "    </tr>\n",
       "    <tr>\n",
       "      <th>25%</th>\n",
       "      <td>0.00000</td>\n",
       "      <td>127.000000</td>\n",
       "    </tr>\n",
       "    <tr>\n",
       "      <th>50%</th>\n",
       "      <td>0.50000</td>\n",
       "      <td>174.000000</td>\n",
       "    </tr>\n",
       "    <tr>\n",
       "      <th>75%</th>\n",
       "      <td>1.00000</td>\n",
       "      <td>284.000000</td>\n",
       "    </tr>\n",
       "    <tr>\n",
       "      <th>max</th>\n",
       "      <td>1.00000</td>\n",
       "      <td>2470.000000</td>\n",
       "    </tr>\n",
       "  </tbody>\n",
       "</table>\n",
       "</div>"
      ],
      "text/plain": [
       "             label       text_wc\n",
       "count  25000.00000  25000.000000\n",
       "mean       0.50000    233.776720\n",
       "std        0.50001    173.715418\n",
       "min        0.00000     10.000000\n",
       "25%        0.00000    127.000000\n",
       "50%        0.50000    174.000000\n",
       "75%        1.00000    284.000000\n",
       "max        1.00000   2470.000000"
      ]
     },
     "execution_count": 10,
     "metadata": {},
     "output_type": "execute_result"
    }
   ],
   "source": [
    "train_df.hist()"
   ]
  },
  {
   "cell_type": "code",
   "execution_count": 57,
   "id": "91812f5f",
   "metadata": {},
   "outputs": [
    {
     "name": "stdout",
     "output_type": "stream",
     "text": [
      "label: 1, word count: 141\n",
      "When I saw this movie a few days ago, my eyes were completely fixed to the screen. Its greatness held my attention to such an extent that I focused all of my attention on it for its entire duration. I would recommend seeing it not just to fans of anime, but to anyone who likes great movies period (or who likes really weird stuff). The style of art is beautiful, the sound is perfect, and the symbolism within it is breathtaking. I've heard complaints about the weird insertion of English text in the movie, but I think the way its done is complementary to the strange style of the movie. The self-attributed description of \"Hello Kitty on acid\" doesn't do justice to this film of absolutely epic proportions. I'd like to find more works by whoever made this, and see them.\n",
      "\n",
      "label: 1, word count: 179\n",
      "I recently purchased the complete American Gothic series on DVD and it lived up to my memories of it. I was very grateful to be able to view for the first time episodes that were never televised. I loved \"Ring of Fire\" in particular of the stories I hadn't seen the first time around.<br /><br />Gary Cole is fantastic as \"evil, sexy\" Lucas Buck. Lucas Black as Caleb is also a superb player. I thought Brenda Bakke as Selena Coombs was also superb in her portrayal. In fact, the whole cast was fantastically talented and had great chemistry with each other.<br /><br />It's a shame the series was screwed by the network (in collusion with a burgeoning group of censors) because it was truly designed for adult viewing. A mixture of comedy, tragedy, farce, satire, Gothic romance and horror genres, it offered brilliant characterizations supported by acting at the genius level.<br /><br />I had the most tremendous lust for the devil for once in my life. Long live Gary Cole (Sheriff Lucas Buck), the most luscious \"fallen angel\" ever.\n",
      "\n",
      "label: 1, word count: 391\n",
      "It's amazing that from a good, though not wonderful, film made back in the early Nineties, a whole franchise can grow. 'Stargate; SG1' is, without a doubt, a worthy addition to the science fiction genre and has the right to stand shoulder-to-shoulder with 'Star Trek' as the kings of sci-fi.<br /><br />Following on from the 1994 feature film 'Stargate', this series sees Stargate command (a military/science organisation) figuring out that the stargate system can be used to travel to various planets across the galaxy and beyond and the military sets up a number of teams to explore. SG1 is one such team, headed by military veteran Colonel Jack O'Neill, and includes archaeologist Doctor Daniel Jackson, military scientist Captain Samantha Carter and alien Teal'c, who has betrayed his overlord leaders in the hopes of one day freeing his people. Earth quickly makes an enemy of the Goa'uld, a parasitic race who use humans as hosts and think themselves equal to gods.<br /><br />The top-notch cast have much to be congratulated for in bringing this show to life. Richard Dean Anderson is perfect as the cynical and sarcastic O'Neill, who can shift from boyish to deadly in the blink of an eye. Michael Shanks, as Daniel, brings heart and an will of steel to the character, who has grown from wide-eyed innocence to darker and more hard-bitten as the show has progressed. Amanda Tapping, as Carter, has perfected the balance between depicting her character's femininity without comprising the fact she is a strong, intelligent military scientist. Christopher Judge is excellent as the aloof Teal'c, who is able to depict the character's emotions with subtlety. And Don S Davis is perfect as the esteemed General Hammond who leads with a good balance of fairness and firmness.<br /><br />Almost all the episodes are are involving and portrayed with intelligence, reflecting on moral dilemmas as well as the friction between military interests and civilian beliefs (often shown through arguments between O'Neill and Jackson). Guest characters are solidly depicted and story arcs are handled in a manner that doesn't bore viewers. SG1 also excels in humour, from O'Neill's wisecracks to episodes that are just wacky and odd! SG1 has everything from action to drama to romance to suspense to the heartbreaking scenes of death. It isn't just an excellent sci-fi show but is an excellent show, overall.\n",
      "\n",
      "label: 1, word count: 147\n",
      "Spirit is a unique and original look at western life from the point of view of a wild horse, and native Americans. The film focuses on the friendships and perils that a wild horse, Spirit, encounters during his life.<br /><br />Very well done in the presentation, using the technology available today to deliver stunning visuals that are breathtaking in their depth and realism.<br /><br />The music is fantastic, with songs by Bryan Adams, and music by Hans Zimmer, who also was responsible for the extremely popular music from the 1994 Disney hit, The Lion King.<br /><br />The story is not very deep but the fact that it isn't quite as in-depth as some movies doesn't in my opinion detract from the film as a whole.<br /><br />An excellent film which I enjoyed immensely, and that is suitable for all the family. Not one to be missed. (10/10)\n",
      "\n",
      "label: 0, word count: 179\n",
      "You can often tell a movie didn't turn out like it should by the heavy use of a narrator. This film features this device throughout. Richard Jobson not entirely content to write direct and even fund some of this film adds to his credits by reading excerpts of his own semi- autobiographical writing which combined with some pretty editing manages to gloss over what is a dull depressing tale which he must be mistaking for genuine art-house. Kevin McKidd puts in a good performance. Everyone else is okay.<br /><br />Budget constraints meant that all scenes are shot in daylight though most are obviously meant to be at night, though if you know serious alcoholics they mainly operate in the day so for me it adds a touch of realism.<br /><br />The funniest part of this film is a waitress who fails to age a single day in the 20 odd years that elapse between her appearances - a more extreme version of the problem McKidd has who goes from 18 to 30 without changing more than his clothes. Bless.\n",
      "\n",
      "label: 1, word count: 324\n",
      "Three teenage girls in an incomplete triangular relation. The base of the triangle is barely there. At the apex is Marie, a serious, short and lean tomboy with a Belmondo-like facial structure. Her best friend is the physical and psychological opposite: coquette, chubby -- I dare say fat -- and desirous for her first kiss with a boy but not quite ready for her first sexual encounter. Because of her chubbiness, boys don't seem interested and it pains her.<br /><br />The other leg of the apex is a beautiful \"fille fatale\" blonde vamp. She is deeply involved in the sport of synchronized swimming performing at competitive level. Marie sees her during a competition at the local public swimming pool. Marie insinuates herself into the life of the vamp using the desire to become a synchronized swimmer as an argument. The vamp has a reputation of being a whore, making out with any young male that orbits around her. Marie is not phased out by that reputation. Put a stress on reputation.<br /><br />The first half is set up. We get to see a lot of synchronized swimming as we become familiar with the three girls. Eventually the narrative leaves synchronized swimming behind and concentrates on the topsy-turvy relations among the three. That's when unexpected things start to happen.<br /><br />It is a trademark of French films to drop nuggets of wisdom on the viewer. This one is no exception. Here it is about ceilings and the dying. See the film to learn more.<br /><br />The director says that the use of synchronized swimming is purposeful. That women-only sport is a metaphor for a girl's life: pretty and feminine on the surface while hard working and competitive underneath. A number of scenes drive this point: elegant moves and smiles for the public, legs kicking ungainly underwater. The title in French is also suggestive: \"prieuve\", or octopus, suggest an individual having to juggle many pressures simultaneously.\n",
      "\n",
      "label: 1, word count: 162\n",
      "Now this is what I'm talking about. Finally, a low-budget horror outing that uses its limitations to its advantage. WENDIGO, while occasionally flawed, is a triumph of the imagination. Granted, it leans heavy on EVIL DEAD style camera moves for its moodiness, but it's still a damn sight better than 99% of direct to video dross.<br /><br />The story is pretty simple: a family takes a vacation at a remote cabin and are menaced by one particularly unhinged hunter. But director Larry Fessenden really knows how to build suspense and add layers of unsettling creepiness through the use of the mythical Wendigo. Is it real? Is it all in the boy's imagination? Is it an externalization of the child's emotional state? <br /><br />Some have quibbled that the film is unsatisfying because it's left to you to decide. Don't be put off by such petty nonsense. A film that makes you think is not one to avoid. It's one to rejoice in.\n",
      "\n",
      "label: 1, word count: 203\n",
      "William H. Macy is at his most sympathetic and compelling here as a hit-man and loving father who wants to step out of the family business without angering his overbearing parents. Treads much of the same territory as TV's \"The Sopranos\" in terms of the mid-life crisis of a criminal theme (here too he visits a shrink) but is still worth watching thanks to some taut direction from Brommel (I look forward to what this guy directs next), an excellent script, and all around great performances. Macy is excellent as always. This is probably his best role since \"Fargo.\" Donald Sutherland is at his creepy best as the domineering father. Tracy Ullman gives a surprisingly riveting dramatic turn as Macy's wife. Young David Dorfman is excellent as Macy's bright and sensitive son (many of his lines sound ad-libbed and are wonderful). Even Neve Campell (who I usually find abhorrent) is compelling as the troubled young woman who captures Macy's eye. All of this is punctuated by a moving score and crisp pace that lead up to a predictable but still powerful climax and meaningful and touching aftermath. This film deserved a much wider release, as I suspect it would have connected with audiences.\n",
      "\n",
      "label: 1, word count: 45\n",
      "This was one of those times when I had nothing to do with 27 premium movie channels available to me. The Theory of Flight grabbed me and held my interest. I found it both touching and amusing, a nice combination of feelings. I recommend it!\n",
      "\n",
      "label: 1, word count: 247\n",
      "I've never been huge on IMAX films. They're cool, but once you get over that initial rush of \"Whoa, it feels like flying!\" the movies themselves are usually pretty corny and ordinary. <br /><br />The exceptions have been the powerful \"Everest\", the exhilarating \"Wild California\" and now the BBC's \"The Human Body\", a super-sized look at the insides of our bodies. <br /><br />Our bodies are machines of a complexity that is simply inconceivable. This 50 minute film could be 10 hours long, and still wouldn't get to all of the systems working in tandem just as I type this review and listen to my radio, and most of us take it all for granted. <br /><br />Here you can see the inside of a pumping heart (looks like an alien spaceship), the inside of your lungs, the tiny hairs in your eardrum that process sound, the development of a baby inside a mother's womb, and surprisingly, a few of the...um, less attractive functions that I thought it would shy away from (pimples, the churning of acids in the stomach...)<br /><br />This film also has a rather funky style to it, which sets it apart from other IMAX documentaries. For instance, we've all seen sperm finding its way to the egg, but have you ever seen it set to the tune of Marvin Gaye's \"Let's Get It On\"? It's creative moments like that that make \"The Human Body\" not just a health lesson, but fun as well.\n",
      "\n"
     ]
    }
   ],
   "source": [
    "for ex_ind in rand.choices(train_df.index, k=10):\n",
    "    ex = train_df.iloc[ex_ind]\n",
    "    print(f'label: {ex[\"label\"]}, word count: {ex[\"text_wc\"]}')\n",
    "    print(ex[\"text\"])\n",
    "    print()"
   ]
  },
  {
   "cell_type": "code",
   "execution_count": 81,
   "id": "a38993f8",
   "metadata": {},
   "outputs": [
    {
     "name": "stdout",
     "output_type": "stream",
     "text": [
      "598.0\n"
     ]
    },
    {
     "data": {
      "image/png": "[encoded data removed]",
      "text/plain": [
       "<Figure size 640x480 with 1 Axes>"
      ]
     },
     "metadata": {},
     "output_type": "display_data"
    }
   ],
   "source": [
    "nintyfive_perc_wc = np.percentile(train_df[\"text_wc\"].to_numpy(), 95)\n",
    "nintyfive_perc_tc = np.percentile(train_df[\"text_tc\"].to_numpy(), 95)\n",
    "print(nintyfive_perc_wc)\n",
    "\n",
    "fig, ax = plt.subplots()\n",
    "sns.histplot(\n",
    "    data=train_df[train_df[\"text_tc\"] <= nintyfive_perc_tc],\n",
    "    x=\"text_tc\",\n",
    "    ax=ax,\n",
    "    label=\"95-percentile RoBerta token count\",\n",
    ")\n",
    "sns.histplot(\n",
    "    data=train_df[train_df[\"text_wc\"] <= nintyfive_perc_wc],\n",
    "    x=\"text_wc\",\n",
    "    ax=ax,\n",
    "    label=\"95-percentile word count\",\n",
    ")\n",
    "\n",
    "handles, labels = ax.get_legend_handles_labels()\n",
    "plt.legend(handles=handles[1::2], fontsize=\"small\")\n",
    "\n",
    "fig.savefig(\"imdb_dist.png\")"
   ]
  },
  {
   "cell_type": "code",
   "execution_count": 78,
   "id": "6b2e32ce",
   "metadata": {},
   "outputs": [
    {
     "name": "stdout",
     "output_type": "stream",
     "text": [
      "13.62% of reviews are over 512 tokens.\n"
     ]
    }
   ],
   "source": [
    "perc_too_long = sum(train_df[\"text_tc\"] >= 512) / len(train_df)\n",
    "\n",
    "print(f\"{perc_too_long*100:.2f}% of reviews are over 512 tokens.\")"
   ]
  },
  {
   "cell_type": "code",
   "execution_count": null,
   "id": "1d12b1b2",
   "metadata": {},
   "outputs": [],
   "source": []
  }
 ],
 "metadata": {
  "jupytext": {
   "cell_metadata_filter": "-all",
   "notebook_metadata_filter": "-all"
  },
  "kernelspec": {
   "display_name": "Python 3 (ipykernel)",
   "language": "python",
   "name": "python3"
  },
  "language_info": {
   "codemirror_mode": {
    "name": "ipython",
    "version": 3
   },
   "file_extension": ".py",
   "mimetype": "text/x-python",
   "name": "python",
   "nbconvert_exporter": "python",
   "pygments_lexer": "ipython3",
   "version": "3.10.2"
  }
 },
 "nbformat": 4,
 "nbformat_minor": 5
}
