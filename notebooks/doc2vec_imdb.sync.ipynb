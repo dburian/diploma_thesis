{
 "cells": [
  {
   "cell_type": "code",
   "execution_count": 1,
   "id": "adcbd333",
   "metadata": {},
   "outputs": [
    {
     "name": "stderr",
     "output_type": "stream",
     "text": [
      "2023-02-14 11:37:10.614055: I tensorflow/core/platform/cpu_feature_guard.cc:193] This TensorFlow binary is optimized with oneAPI Deep Neural Network Library (oneDNN) to use the following CPU instructions in performance-critical operations:  AVX2 FMA\n",
      "To enable them in other operations, rebuild TensorFlow with the appropriate compiler flags.\n",
      "2023-02-14 11:37:10.700086: W tensorflow/stream_executor/platform/default/dso_loader.cc:64] Could not load dynamic library 'libcudart.so.11.0'; dlerror: libcudart.so.11.0: cannot open shared object file: No such file or directory\n",
      "2023-02-14 11:37:10.700103: I tensorflow/stream_executor/cuda/cudart_stub.cc:29] Ignore above cudart dlerror if you do not have a GPU set up on your machine.\n",
      "2023-02-14 11:37:10.726545: E tensorflow/stream_executor/cuda/cuda_blas.cc:2981] Unable to register cuBLAS factory: Attempting to register factory for plugin cuBLAS when one has already been registered\n",
      "2023-02-14 11:37:11.294281: W tensorflow/stream_executor/platform/default/dso_loader.cc:64] Could not load dynamic library 'libnvinfer.so.7'; dlerror: libnvinfer.so.7: cannot open shared object file: No such file or directory\n",
      "2023-02-14 11:37:11.294347: W tensorflow/stream_executor/platform/default/dso_loader.cc:64] Could not load dynamic library 'libnvinfer_plugin.so.7'; dlerror: libnvinfer_plugin.so.7: cannot open shared object file: No such file or directory\n",
      "2023-02-14 11:37:11.294355: W tensorflow/compiler/tf2tensorrt/utils/py_utils.cc:38] TF-TRT Warning: Cannot dlopen some TensorRT libraries. If you would like to use Nvidia GPU with TensorRT, please make sure the missing libraries mentioned above are installed properly.\n"
     ]
    }
   ],
   "source": [
    "import importlib\n",
    "import logging\n",
    "import os\n",
    "\n",
    "import datasets\n",
    "import tensorflow as tf\n",
    "\n",
    "import transformer_document_embedding as tde\n",
    "\n",
    "os.environ.setdefault(\"TF_CPP_MIN_LOG_LEVEL\", \"2\")  # Report only TF errors by default\n",
    "\n",
    "logging.basicConfig(\n",
    "    format=\"%(asctime)s : %(levelname)s : %(message)s\", level=logging.INFO\n",
    ")"
   ]
  },
  {
   "cell_type": "code",
   "execution_count": 2,
   "id": "31ac9082",
   "metadata": {},
   "outputs": [],
   "source": [
    "tde = importlib.reload(tde)"
   ]
  },
  {
   "cell_type": "code",
   "execution_count": 3,
   "id": "e1d3f1e5",
   "metadata": {},
   "outputs": [
    {
     "name": "stderr",
     "output_type": "stream",
     "text": [
      "2023-02-14 11:37:11,988 : INFO : Doc2Vec lifecycle event {'params': 'Doc2Vec<dbow,d400,n5,mc5,s0.001,t12>', 'datetime': '2023-02-14T11:37:11.988907', 'gensim': '4.2.0', 'python': '3.10.8 (main, Nov  1 2022, 14:18:21) [GCC 12.2.0]', 'platform': 'Linux-6.0.11-1-MANJARO-x86_64-with-glibc2.36', 'event': 'created'}\n",
      "2023-02-14 11:37:12.010163: E tensorflow/stream_executor/cuda/cuda_driver.cc:265] failed call to cuInit: CUDA_ERROR_UNKNOWN: unknown error\n",
      "2023-02-14 11:37:12.010194: I tensorflow/stream_executor/cuda/cuda_diagnostics.cc:169] retrieving CUDA diagnostic information for host: manjaro-pc\n",
      "2023-02-14 11:37:12.010200: I tensorflow/stream_executor/cuda/cuda_diagnostics.cc:176] hostname: manjaro-pc\n",
      "2023-02-14 11:37:12.010285: I tensorflow/stream_executor/cuda/cuda_diagnostics.cc:200] libcuda reported version is: 525.60.11\n",
      "2023-02-14 11:37:12.010301: I tensorflow/stream_executor/cuda/cuda_diagnostics.cc:204] kernel reported version is: 525.60.11\n",
      "2023-02-14 11:37:12.010306: I tensorflow/stream_executor/cuda/cuda_diagnostics.cc:310] kernel version seems to match DSO: 525.60.11\n",
      "2023-02-14 11:37:12.010573: I tensorflow/core/platform/cpu_feature_guard.cc:193] This TensorFlow binary is optimized with oneAPI Deep Neural Network Library (oneDNN) to use the following CPU instructions in performance-critical operations:  AVX2 FMA\n",
      "To enable them in other operations, rebuild TensorFlow with the appropriate compiler flags.\n"
     ]
    }
   ],
   "source": [
    "LOG_DIR = \"../results/notebooks/doc2vec_imdb\"\n",
    "task = tde.tasks.IMDBClassification(data_size_limit=100)\n",
    "model = tde.models.Doc2VecIMDB(log_dir=LOG_DIR, use_dm=False, dbow_kwargs={\"epochs\": 1})"
   ]
  },
  {
   "cell_type": "code",
   "execution_count": 4,
   "id": "5829b9e3",
   "metadata": {},
   "outputs": [
    {
     "name": "stderr",
     "output_type": "stream",
     "text": [
      "2023-02-14 11:37:14,473 : WARNING : Found cached dataset imdb (/home/dburian/.cache/huggingface/datasets/imdb/plain_text/1.0.0/2fdd8b9bcadd6e7055e742a706876ba43f19faee861df134affd7a3f60fc38a1)\n",
      "2023-02-14 11:37:14,490 : WARNING : Loading cached processed dataset at /home/dburian/.cache/huggingface/datasets/imdb/plain_text/1.0.0/2fdd8b9bcadd6e7055e742a706876ba43f19faee861df134affd7a3f60fc38a1/cache-6c9a401648fa09b0.arrow\n",
      "2023-02-14 11:37:16,753 : WARNING : Found cached dataset imdb (/home/dburian/.cache/huggingface/datasets/imdb/plain_text/1.0.0/2fdd8b9bcadd6e7055e742a706876ba43f19faee861df134affd7a3f60fc38a1)\n",
      "2023-02-14 11:37:16,783 : WARNING : Loading cached processed dataset at /home/dburian/.cache/huggingface/datasets/imdb/plain_text/1.0.0/2fdd8b9bcadd6e7055e742a706876ba43f19faee861df134affd7a3f60fc38a1/cache-9ef2174596950ddb.arrow\n",
      "2023-02-14 11:37:19,022 : WARNING : Found cached dataset imdb (/home/dburian/.cache/huggingface/datasets/imdb/plain_text/1.0.0/2fdd8b9bcadd6e7055e742a706876ba43f19faee861df134affd7a3f60fc38a1)\n",
      "2023-02-14 11:37:19,049 : WARNING : Loading cached processed dataset at /home/dburian/.cache/huggingface/datasets/imdb/plain_text/1.0.0/2fdd8b9bcadd6e7055e742a706876ba43f19faee861df134affd7a3f60fc38a1/cache-9a08b03fbbbf76fd.arrow\n",
      "2023-02-14 11:37:19,078 : INFO : collecting all words and their counts\n",
      "2023-02-14 11:37:19,078 : INFO : PROGRESS: at example #0, processed 0 words (0 words/s), 0 word types, 0 tags\n",
      "2023-02-14 11:37:19,109 : INFO : collected 13861 word types and 300 unique tags from a corpus of 300 examples and 66759 words\n",
      "2023-02-14 11:37:19,110 : INFO : Creating a fresh vocabulary\n",
      "2023-02-14 11:37:19,117 : INFO : Doc2Vec lifecycle event {'msg': 'effective_min_count=5 retains 1531 unique words (11.05% of original 13861, drops 12330)', 'datetime': '2023-02-14T11:37:19.117622', 'gensim': '4.2.0', 'python': '3.10.8 (main, Nov  1 2022, 14:18:21) [GCC 12.2.0]', 'platform': 'Linux-6.0.11-1-MANJARO-x86_64-with-glibc2.36', 'event': 'prepare_vocab'}\n",
      "2023-02-14 11:37:19,118 : INFO : Doc2Vec lifecycle event {'msg': 'effective_min_count=5 leaves 49563 word corpus (74.24% of original 66759, drops 17196)', 'datetime': '2023-02-14T11:37:19.118049', 'gensim': '4.2.0', 'python': '3.10.8 (main, Nov  1 2022, 14:18:21) [GCC 12.2.0]', 'platform': 'Linux-6.0.11-1-MANJARO-x86_64-with-glibc2.36', 'event': 'prepare_vocab'}\n",
      "2023-02-14 11:37:19,125 : INFO : deleting the raw counts dictionary of 13861 items\n",
      "2023-02-14 11:37:19,125 : INFO : sample=0.001 downsamples 54 most-common words\n",
      "2023-02-14 11:37:19,125 : INFO : Doc2Vec lifecycle event {'msg': 'downsampling leaves estimated 33635.14244245144 word corpus (67.9%% of prior 49563)', 'datetime': '2023-02-14T11:37:19.125759', 'gensim': '4.2.0', 'python': '3.10.8 (main, Nov  1 2022, 14:18:21) [GCC 12.2.0]', 'platform': 'Linux-6.0.11-1-MANJARO-x86_64-with-glibc2.36', 'event': 'prepare_vocab'}\n",
      "2023-02-14 11:37:19,137 : INFO : estimated required memory for 1531 words and 400 dimensions: 6204700 bytes\n",
      "2023-02-14 11:37:19,137 : INFO : resetting layer weights\n",
      "2023-02-14 11:37:19,140 : INFO : Doc2Vec lifecycle event {'msg': 'training model with 12 workers on 1531 vocabulary and 400 features, using sg=1 hs=0 sample=0.001 negative=5 window=5 shrink_windows=True', 'datetime': '2023-02-14T11:37:19.140772', 'gensim': '4.2.0', 'python': '3.10.8 (main, Nov  1 2022, 14:18:21) [GCC 12.2.0]', 'platform': 'Linux-6.0.11-1-MANJARO-x86_64-with-glibc2.36', 'event': 'train'}\n",
      "2023-02-14 11:37:19,191 : INFO : EPOCH 0: training on 66759 raw words (33887 effective words) took 0.0s, 701716 effective words/s\n",
      "2023-02-14 11:37:19,192 : INFO : Doc2Vec lifecycle event {'msg': 'training on 66759 raw words (33887 effective words) took 0.1s, 663522 effective words/s', 'datetime': '2023-02-14T11:37:19.192172', 'gensim': '4.2.0', 'python': '3.10.8 (main, Nov  1 2022, 14:18:21) [GCC 12.2.0]', 'platform': 'Linux-6.0.11-1-MANJARO-x86_64-with-glibc2.36', 'event': 'train'}\n"
     ]
    }
   ],
   "source": [
    "doc2vec_train = datasets.combine.concatenate_datasets(\n",
    "    [task.train, task.unsupervised, task.test]\n",
    ")\n",
    "doc2vec_train = doc2vec_train.shuffle()\n",
    "model._doc2vec.train(doc2vec_train)"
   ]
  },
  {
   "cell_type": "code",
   "execution_count": 12,
   "id": "ca895bd3",
   "metadata": {},
   "outputs": [],
   "source": [
    "ds = model._cls_head_dataset(task.train, training=False)"
   ]
  },
  {
   "cell_type": "code",
   "execution_count": 13,
   "id": "35400c0d",
   "metadata": {},
   "outputs": [
    {
     "data": {
      "text/plain": [
       "[0, 0, 0, 0]"
      ]
     },
     "execution_count": 13,
     "metadata": {},
     "output_type": "execute_result"
    }
   ],
   "source": [
    "label_ds = task.train.to_tf_dataset(1, columns=[\"label\"]).unbatch()\n",
    "list(label_ds.take(4).as_numpy_iterator())"
   ]
  },
  {
   "cell_type": "code",
   "execution_count": 14,
   "id": "06e17f4e",
   "metadata": {},
   "outputs": [],
   "source": [
    "ds = tf.data.Dataset.zip((ds, label_ds))"
   ]
  },
  {
   "cell_type": "code",
   "execution_count": 15,
   "id": "583b5000",
   "metadata": {},
   "outputs": [],
   "source": [
    "ds = ds.shuffle(50000)"
   ]
  },
  {
   "cell_type": "code",
   "execution_count": 16,
   "id": "db4d7b57",
   "metadata": {},
   "outputs": [],
   "source": [
    "ds = ds.batch(2)"
   ]
  },
  {
   "cell_type": "code",
   "execution_count": 10,
   "id": "ec8486d6",
   "metadata": {},
   "outputs": [
    {
     "data": {
      "text/plain": [
       "[(array([[[ 0.02674744, -0.00799166, -0.00010695, ...,  0.00455922,\n",
       "           -0.02033987,  0.00345751],\n",
       "          [ 0.00544163, -0.00366657, -0.00188221, ...,  0.00255587,\n",
       "           -0.00328184,  0.00125724]],\n",
       "  \n",
       "         [[ 0.0089562 , -0.00161418,  0.00055404, ...,  0.00059678,\n",
       "           -0.00703504,  0.00362431],\n",
       "          [ 0.04915053, -0.01072214, -0.00062744, ...,  0.00166242,\n",
       "           -0.03730201,  0.00970875]]], dtype=float32),\n",
       "  array([0, 0])),\n",
       " (array([[[ 0.03567876, -0.00669367,  0.00111443, ...,  0.00302335,\n",
       "           -0.02754422,  0.00585555],\n",
       "          [ 0.02401001, -0.00302373,  0.0013994 , ...,  0.00370954,\n",
       "           -0.01915143,  0.00506008]],\n",
       "  \n",
       "         [[ 0.05356168, -0.01278524, -0.00386273, ...,  0.0021304 ,\n",
       "           -0.04241763,  0.00804629],\n",
       "          [ 0.00609807, -0.00285026, -0.00354838, ...,  0.00012294,\n",
       "           -0.00394088, -0.00058952]]], dtype=float32),\n",
       "  array([0, 0])),\n",
       " (array([[[ 3.0236315e-02, -3.9760964e-03, -2.5477372e-03, ...,\n",
       "            2.5663055e-03, -2.2389567e-02,  7.1624732e-03],\n",
       "          [ 1.5315148e-02, -5.2831187e-03, -7.2837441e-04, ...,\n",
       "            8.6476631e-04, -9.6913148e-03,  2.0116786e-04]],\n",
       "  \n",
       "         [[ 1.4636982e-02, -1.9465600e-03,  4.7738678e-04, ...,\n",
       "            1.3369239e-03, -1.1008318e-02,  4.7453986e-03],\n",
       "          [ 9.2928559e-03, -1.3299978e-03, -7.5951510e-05, ...,\n",
       "           -2.0061284e-03, -8.0810245e-03,  1.1890377e-03]]], dtype=float32),\n",
       "  array([0, 0])),\n",
       " (array([[[ 0.01152385, -0.00388966,  0.00014015, ...,  0.00207175,\n",
       "           -0.01177591, -0.00038113],\n",
       "          [ 0.08496817, -0.01535231, -0.00342042, ...,  0.00759161,\n",
       "           -0.0663642 ,  0.01834563]],\n",
       "  \n",
       "         [[ 0.01699102, -0.00190848, -0.00124465, ...,  0.00208041,\n",
       "           -0.01223345,  0.00477485],\n",
       "          [ 0.02036038, -0.00605208, -0.00104093, ...,  0.00170456,\n",
       "           -0.01336113,  0.00354549]]], dtype=float32),\n",
       "  array([0, 0]))]"
      ]
     },
     "execution_count": 10,
     "metadata": {},
     "output_type": "execute_result"
    }
   ],
   "source": [
    "list(ds.take(4).as_numpy_iterator())"
   ]
  },
  {
   "cell_type": "code",
   "execution_count": 17,
   "id": "94996757",
   "metadata": {},
   "outputs": [],
   "source": [
    "ds = model._cls_head_dataset(task.train)"
   ]
  }
 ],
 "metadata": {
  "kernelspec": {
   "display_name": "Python 3 (ipykernel)",
   "language": "python",
   "name": "python3"
  },
  "language_info": {
   "codemirror_mode": {
    "name": "ipython",
    "version": 3
   },
   "file_extension": ".py",
   "mimetype": "text/x-python",
   "name": "python",
   "nbconvert_exporter": "python",
   "pygments_lexer": "ipython3",
   "version": "3.10.8"
  }
 },
 "nbformat": 4,
 "nbformat_minor": 5
}
